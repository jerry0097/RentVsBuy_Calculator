{
 "cells": [
  {
   "cell_type": "code",
   "execution_count": 1,
   "id": "db96e80d",
   "metadata": {},
   "outputs": [],
   "source": [
    "from ipywidgets import *\n",
    "import numpy as np\n",
    "import matplotlib.pyplot as plt\n",
    "import time\n",
    "%matplotlib notebook\n",
    "import math\n",
    "import random\n",
    "import pandas as pd"
   ]
  },
  {
   "cell_type": "code",
   "execution_count": 2,
   "id": "ce472827",
   "metadata": {},
   "outputs": [],
   "source": [
    "df = pd.read_csv(\"all_localities_and_cities.csv\")"
   ]
  },
  {
   "cell_type": "code",
   "execution_count": 3,
   "id": "e0838b2d",
   "metadata": {},
   "outputs": [
    {
     "name": "stdout",
     "output_type": "stream",
     "text": [
      "<class 'pandas.core.frame.DataFrame'>\n",
      "RangeIndex: 2882 entries, 0 to 2881\n",
      "Data columns (total 2 columns):\n",
      " #   Column         Non-Null Count  Dtype \n",
      "---  ------         --------------  ----- \n",
      " 0   locality_name  2882 non-null   object\n",
      " 1   city_name      2882 non-null   object\n",
      "dtypes: object(2)\n",
      "memory usage: 45.2+ KB\n"
     ]
    }
   ],
   "source": [
    "df.info()"
   ]
  },
  {
   "cell_type": "code",
   "execution_count": null,
   "id": "569054ea",
   "metadata": {
    "scrolled": false
   },
   "outputs": [
    {
     "data": {
      "application/vnd.jupyter.widget-view+json": {
       "model_id": "d06ccdae38dd4bc98c57bcee5240407a",
       "version_major": 2,
       "version_minor": 0
      },
      "text/plain": [
       "HTML(value='<h4>Basic Information</h>')"
      ]
     },
     "metadata": {},
     "output_type": "display_data"
    },
    {
     "data": {
      "application/vnd.jupyter.widget-view+json": {
       "model_id": "2f8919ea41ee44ed8f61d10f1b63c4f2",
       "version_major": 2,
       "version_minor": 0
      },
      "text/plain": [
       "VBox(children=(HBox(children=(Dropdown(description='Gender:', index=1, options=('Male', 'Female'), value='Fema…"
      ]
     },
     "metadata": {},
     "output_type": "display_data"
    }
   ],
   "source": [
    "time = np.arange(2022, 2062)\n",
    "\n",
    "display(widgets.HTML(value=\"<h4>Basic Information</h>\"))\n",
    "gender = widgets.Dropdown(options=['Male', 'Female'],value='Female',description='Gender:',disabled=False)\n",
    "age = widgets.IntText(value=30,description='Age:',disabled=False)\n",
    "city = widgets.Dropdown(options=sorted(df[\"city_name\"].unique()),description='City:')\n",
    "locality = widgets.Dropdown(options=sorted(df[\"locality_name\"].unique()),description='Locality:')\n",
    "prop = widgets.SelectMultiple(options=['Apartment/Flat', 'Villa', 'Row House', \"Plot\"],value=['Apartment/Flat'],description='Property',disabled=False)\n",
    "boxx = widgets.HBox([gender, age])\n",
    "boxxx = widgets.HBox([city, locality])\n",
    "boxxxx = widgets.HBox([prop])\n",
    "display(widgets.VBox([boxx,boxxx,boxxxx]))\n",
    "\n",
    "starting_sum = widgets.FloatText(value=1000000,min = 0, step = 10000, description = \"Starting Rs.\")\n",
    "\n",
    "display(widgets.HTML(value=\"<h4>Deposit</h4>\"))\n",
    "display(widgets.HTML(value=\"<p>Initial Downpayment for desired Property</p>\"))\n",
    "display(starting_sum)\n",
    "\n",
    "display(widgets.HTML(value=\"<h4>Buying Cost and Renting</h4>\"))\n",
    "house_cost = widgets.IntText(value = 6000000, min = 100000, step = 10000, description = \"Cost (Rs.)\")\n",
    "interest_rate = widgets.FloatSlider(value = 5, min = 1, step = .5,max=20, description = \"Interest (%)\")\n",
    "duration = widgets.IntSlider(value = 20, min = 5, max=30, step= 1, description = \"Duration (y)\")\n",
    "\n",
    "rent = widgets.IntText(value = 15000, min = 5000, step=5000, description = \"Monthly Rent\")\n",
    "rent_growth  = widgets.IntSlider(value = 1, min = 1, max = 30, step = 1, description = \"Yr. Hike (%)\")\n",
    "rent_box = widgets.HBox([rent, rent_growth])\n",
    "\n",
    "start=2022\n",
    "end = start+duration.value\n",
    "n = duration.value \n",
    "cr = rent.value\n",
    "rh = rent_growth.value\n",
    "r = interest_rate.value/100\n",
    "h_c = house_cost.value\n",
    "s_s = starting_sum.value\n",
    "\n",
    "\n",
    "def f(house_cost,starting_sum,rent,rent_growth,interest_rate,duration):\n",
    "    p = house_cost - starting_sum\n",
    "    r = interest_rate/100\n",
    "    n = duration\n",
    "    annual_payment = round((p)*(r)*math.pow((1+r),n)/(math.pow(1+r,n) - 1),2)\n",
    "    temp = 0*time + house_cost\n",
    "    for i in range(0,n):\n",
    "        temp[i] = annual_payment\n",
    "    \n",
    "    emi = round((annual_payment/12),2)\n",
    "    total = round((annual_payment *duration),2)\n",
    "    interest_paid = round((total - p),2)\n",
    "    yrent = rent*12\n",
    "    \n",
    "    overall_rent = 0*time + yrent\n",
    "    for i in range(1,n):\n",
    "        overall_rent[i] = overall_rent[i-1]*(1+rent_growth/100)\n",
    "        o_r = sum(overall_rent)\n",
    "        \n",
    "    prop_app = 0*time + house_cost\n",
    "    for i in range(1,duration):\n",
    "        prop_app[i] = prop_app[i-1]*(1+rent_growth/100)\n",
    "        h_r = sum(prop_app)\n",
    "        \n",
    "    temp = 0*time + rent\n",
    "    for i in range(1,duration):\n",
    "        temp[i] = temp[i-1]*(1+rent_growth/100)\n",
    "   \n",
    "    print('Annual Payment Rs. {}'.format(annual_payment))\n",
    "    print('Monthly EMI Rs. {}'.format(emi))\n",
    "    print('Total Interest Rs. {}'.format(interest_paid))\n",
    "    print('Total Amount Rs. {}'.format(total))\n",
    "    print('Total Rent paid Rs.{} over {} years'.format(o_r,duration))\n",
    "    print('Property Appreciates to Rs.{} over {} years'.format(h_r,duration))\n",
    "    \n",
    "out = widgets.interactive_output(f, {\"house_cost\":house_cost,\"starting_sum\":starting_sum,\"rent\":rent,\"rent_growth\":rent_growth,\"interest_rate\":interest_rate,\"duration\":duration})\n",
    "\n",
    "box1 = widgets.HBox([house_cost])\n",
    "box2 = widgets.HBox([interest_rate, duration])\n",
    "box3 = widgets.HBox([widgets.VBox(),out])\n",
    "\n",
    "display(widgets.VBox([box1,box2]))\n",
    "display(rent_box)\n",
    "display(widgets.VBox([box3]))\n"
   ]
  },
  {
   "cell_type": "code",
   "execution_count": null,
   "id": "07fa0a07",
   "metadata": {},
   "outputs": [],
   "source": []
  }
 ],
 "metadata": {
  "kernelspec": {
   "display_name": "Python 3 (ipykernel)",
   "language": "python",
   "name": "python3"
  },
  "language_info": {
   "codemirror_mode": {
    "name": "ipython",
    "version": 3
   },
   "file_extension": ".py",
   "mimetype": "text/x-python",
   "name": "python",
   "nbconvert_exporter": "python",
   "pygments_lexer": "ipython3",
   "version": "3.9.12"
  }
 },
 "nbformat": 4,
 "nbformat_minor": 5
}
